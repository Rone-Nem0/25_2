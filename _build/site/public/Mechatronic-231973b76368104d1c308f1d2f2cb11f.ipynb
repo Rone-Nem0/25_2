{
 "cells": [
  {
   "cell_type": "markdown",
   "id": "80b17951",
   "metadata": {},
   "source": [
    "# Mechatronic Project \n",
    "\n",
    "# Phases of PMBOK\n",
    "## PMBOK \n",
    "- Initiation \n",
    "- Planification\n",
    "- Execution\n",
    "- Control\n",
    "- Close\n",
    "\n",
    "## Resumen de errores\n",
    "This is a guide were explain the error happens how solution. \n",
    "\n",
    "## Methodology \n",
    "\n",
    "*Design Thinking*\n",
    "- Agile methodology\n",
    "-\n",
    "\n",
    "## Thols \n",
    "\n",
    "\n",
    "*Get out of the carrear*\n",
    "- Problematic exist\n",
    "- What want \n",
    "- What need\n",
    "\n",
    "*Mechatronics*\n",
    "- Perfil sinergy ( Mechanics, Electronic, Control, Informatic)\n",
    "- Get out of the carreer with the inspired Expectation Mechatronics.\n",
    "\n",
    "\n",
    "- Critic Thinking\n",
    "- Assertive Comunication \n",
    "- Team Work\n",
    "- Ubication and Identification of the fortreess and weekness to work together, complementation. \n",
    "- Follow the reality, standarts, norms, ask for help.\n",
    "- Understand the discipline, the responsability, the time for make things, the order, the identification, fundamental problem (time) pay for our taxes, referential of good information paper, thesis, patents, solution, improvement solution.\n",
    "\n",
    "> When someone clothes the fundamental, trusted and understanding of the respect. Standarization of the brand and how to clothes yourself. The first impression to get out of my body and give trusted. Clean, ordered and harmony. We want to be something, enginerring solution of problem.  \n",
    "\n",
    "> The complementation is fundamental, but the goals are the same. The compromised with the things and the team of life. Compromised, respect and responsability. The shared discipline to enjoy the road, and make the dream come true. \n",
    "\n",
    "\n",
    "*Project*\n",
    "- Effort (The life is hardness)\n",
    "- Temporality (The end of the life make a point)\n",
    "- Goal (Follow a dream or follow the carrer, Construction motor for transportation) (Be happines without shrink the happines of the others) \n",
    "- Unique only one \n",
    "- Change the only parameter make new project.\n",
    "\n",
    "\n",
    "\n",
    "> We are responsable of we say and make it, and also for the things we dont talk and make.\n",
    "\n",
    "\n",
    "\n",
    "*Hardware*\n",
    "- prevente (Dependent of external help to control the parameters of my body )\n",
    "- predict \n",
    "- corrective ( Exercise get out the toxics, Na, NH3, K)\n",
    "\n",
    "\n",
    "1. Eat ( Salt, Harinas -- Lenteja, Quinua, Garbanzo)\n",
    "2. Exercise ( Protect the Taquicardias. Zinosudal Node, Tricúspide, Bicuspide, P, Haz de iz, ACV)\n",
    "3. Sleep (4 Hours x 2, 2 REMS Cycle, 7 nivels sleep, )\n",
    "4. Healthy thinking ( the thinking control the state of the body)\n",
    "5. Cross, make the things with high vibrations.\n",
    "![alt text](Mechatronic/Electrocardiagram.png)\n",
    "\n",
    "*Artificial Inteligence*\n",
    "- Pre-existed Algorithem\n",
    "- Quantum Mechanical\n",
    "\n",
    "\n"
   ]
  },
  {
   "cell_type": "code",
   "execution_count": null,
   "id": "9d062203",
   "metadata": {},
   "outputs": [
    {
     "name": "stdout",
     "output_type": "stream",
     "text": [
      "Note: you may need to restart the kernel to use updated packages.\n"
     ]
    },
    {
     "data": {
      "text/markdown": [
       "Este es un proceso interactivo de entrenamiento de un perceptrón binario.Puedes ajustar manualmente los pesos, el sesgo, la tasa de aprendizaje, las etiquetas de salida y el número de épocas, o seleccionar valores aleatorios para los pesos y el sesgo.<br>El perceptrón se entrena sobre datos tipo Q = { (P, T) } donde P ∈ {0, 1}² y T ∈ {0, 1}.<br>Observa cómo evoluciona la frontera de decisión durante el entrenamiento."
      ],
      "text/plain": [
       "<IPython.core.display.Markdown object>"
      ]
     },
     "metadata": {},
     "output_type": "display_data"
    },
    {
     "data": {
      "application/vnd.jupyter.widget-view+json": {
       "model_id": "4537a711240740c289fdc523213ca5d6",
       "version_major": 2,
       "version_minor": 0
      },
      "text/plain": [
       "interactive(children=(IntSlider(value=0, description='Random', max=1), IntSlider(value=0, description='y(X=[0,…"
      ]
     },
     "metadata": {},
     "output_type": "display_data"
    },
    {
     "data": {
      "text/plain": [
       "<function __main__.perceptron_interactive(random_slider, y0_slider, y1_slider, y2_slider, y3_slider, w0_slider, w1_slider, b_slider, lr_slider, epochs_slider)>"
      ]
     },
     "execution_count": 40,
     "metadata": {},
     "output_type": "execute_result"
    }
   ],
   "source": [
    "# %pip install -q ipywidgets\n",
    "# import numpy as np\n",
    "# from IPython.display import Markdown, display\n",
    "# import math\n",
    "# from ipywidgets import interact, FloatSlider, IntSlider # <-- FIX: Import widget classes\n",
    "# import matplotlib.pyplot as plt\n",
    "\n",
    "# # Data and function definitions as before...\n",
    "# X = np.array([[0,0], [0,1], [1,0], [1,1]])\n",
    "\n",
    "# def perceptron_interactive(random_slider, y0_slider, y1_slider, y2_slider, y3_slider, w0_slider, w1_slider, b_slider, lr_slider, epochs_slider):\n",
    "\n",
    "#     display(Markdown(\"If you want a Random Value of the weights and the bias put the random value = 1!\")),\n",
    "#     if random_slider == 1:\n",
    "#         w0_slider = np.random.rand()\n",
    "#         w1_slider = np.random.rand()\n",
    "#         b_slider = np.random.rand()\n",
    "#         display(Markdown(f\"Randomly selected weights: w0={w0_slider:.2f}, w1={w1_slider:.2f}, bias={b_slider:.2f}\"))\n",
    "\n",
    "#     y = np.array([y0_slider, y1_slider, y2_slider, y3_slider])\n",
    "#     w = np.array([w0_slider, w1_slider])\n",
    "#     bias = b_slider\n",
    "#     lr = lr_slider\n",
    "#     epochs = epochs_slider\n",
    "\n",
    "\n",
    "#     # w = [0.1,0.1]\n",
    "#     # bias = 0\n",
    "#     # lr = 0.5\n",
    "#     # epochs =5\n",
    "#     plt.figure(figsize=(5,5))\n",
    "#     for epoch in range(epochs):\n",
    "#         plt.clf()\n",
    "#         # Plot points\n",
    "#         for i, label in enumerate(y):\n",
    "#             plt.scatter(X[i,0], X[i,1], c='red' if label==1 else 'blue', s=100)\n",
    "#         # Plot decision boundary\n",
    "#         x_vals = np.array([-0.2,1.2])\n",
    "#         if w[1] != 0:\n",
    "#             y_vals = -(w[0]*x_vals + bias)/w[1]\n",
    "#             plt.plot(x_vals, y_vals, 'k--')\n",
    "        \n",
    "#         plt.xlim(-0.2,1.2)\n",
    "#         plt.ylim(-0.2,1.2)\n",
    "#         plt.title(f'Epoch {epoch}')\n",
    "#         plt.xlabel('x1')\n",
    "#         plt.ylabel('x2')\n",
    "#         plt.grid(True)\n",
    "#         plt.pause(0.01)\n",
    "#         if w[1] != 0:\n",
    "#             angle_rad = math.atan(-w[0]/w[1])\n",
    "#             angle_deg = math.degrees(angle_rad)\n",
    "            \n",
    "#             display(Markdown(f\" The slop: m={-w[0]/w[1]:.2f},angle={angle_deg:.2f}, short_in_y={-bias/w[1]:.2f}\"))\n",
    "        \n",
    "#         if w[1] == 0:\n",
    "#             display(Markdown(f\" Doesn't exist the hiperplane to separate in 2 class\"))\n",
    "            \n",
    "\n",
    "\n",
    "#         # Perceptron update\n",
    "#         for i in range(len(X)):\n",
    "#             z = np.dot(X[i], w) + bias\n",
    "#             y_pred = 1 if z > 0 else 0\n",
    "#             w += lr * (y[i] - y_pred) * X[i]\n",
    "#             bias += lr * (y[i] - y_pred)\n",
    "#             display(Markdown(f\" weights in each iteration: w0={w[0]:.2f}, w1={w[1]:.2f}, bias={bias:.2f}\"))\n",
    "\n",
    "\n",
    "# display(Markdown(\n",
    "#                 \"Este es un proceso interactivo de entrenamiento de un perceptrón binario.\"\n",
    "#                 \"Puedes ajustar manualmente los pesos, el sesgo, la tasa de aprendizaje, las etiquetas de salida y el número de épocas, \"\n",
    "#                 \"o seleccionar valores aleatorios para los pesos y el sesgo.<br>\"\n",
    "#                 \"El perceptrón se entrena sobre datos tipo Q = { (P, T) } donde P ∈ {0, 1}² y T ∈ {0, 1}.<br>\"\n",
    "#                 \"Observa cómo evoluciona la frontera de decisión durante el entrenamiento.\"\n",
    "#             ))\n",
    "# interact(\n",
    "    \n",
    "#     perceptron_interactive,\n",
    "#     random_slider=IntSlider(min=0, max=1, step=1, value=0, description=\"Random\"),\n",
    "#     y0_slider=IntSlider(min=0, max=1, step=1, value=0, description=\"y(X=[0,0]\"),\n",
    "#     y1_slider=IntSlider(min=0, max=1, step=1, value=0, description=\"y(X=[0,1]\"),\n",
    "#     y2_slider=IntSlider(min=0, max=1, step=1, value=0, description=\"y(X=[1,0]\"),\n",
    "#     y3_slider=IntSlider(min=0, max=1, step=1, value=1, description=\"y(X=[1,1]\"),\n",
    "#     w0_slider=FloatSlider(min=0, max=1, step=0.1, value=0.1, description=\"w0\"),\n",
    "#     w1_slider=FloatSlider(min=0, max=1, step=0.1, value=0.1, description=\"w1\"),\n",
    "#     b_slider=FloatSlider(min=0, max=1, step=0.1, value=0, description=\"bias\"),\n",
    "#     lr_slider=FloatSlider(min=0, max=1, step=0.1, value=0.1, description=\"lr\"),\n",
    "#     epochs_slider=IntSlider(min=1, max=20, step=1, value=5, description=\"epochs\")\n",
    "# )"
   ]
  },
  {
   "cell_type": "markdown",
   "id": "5378be60",
   "metadata": {},
   "source": [
    "\n",
    "```{tableofcontents}\n",
    "```\n"
   ]
  }
 ],
 "metadata": {
  "kernelspec": {
   "display_name": ".venv",
   "language": "python",
   "name": "python3"
  },
  "language_info": {
   "codemirror_mode": {
    "name": "ipython",
    "version": 3
   },
   "file_extension": ".py",
   "mimetype": "text/x-python",
   "name": "python",
   "nbconvert_exporter": "python",
   "pygments_lexer": "ipython3",
   "version": "3.12.3"
  }
 },
 "nbformat": 4,
 "nbformat_minor": 5
}
