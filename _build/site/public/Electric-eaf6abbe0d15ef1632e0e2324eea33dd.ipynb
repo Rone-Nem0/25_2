{
 "cells": [
  {
   "cell_type": "markdown",
   "id": "2c56db07",
   "metadata": {
    "vscode": {
     "languageId": "plaintext"
    }
   },
   "source": [
    "# Industrial Electrical\n",
    "\n",
    "# Knowing the Heart Electrician\n",
    "\n",
    "First understand the soul of the teacher, Inga, Knowing the responsabilities of project.\n",
    "- Bibble is one of the most reading books.\n",
    "- Understand the problems with the most loved things he have.\n",
    "- See the student like humans understanding and try to know the inside the soul.\n",
    "- Try to open and tell the true.\n",
    "\n",
    "The relevant of the team work. Group of two\n"
   ]
  },
  {
   "cell_type": "markdown",
   "id": "b7358376",
   "metadata": {},
   "source": [
    "\n",
    "# Practice application - final project\n",
    "\n",
    "Real project in the hand meaning data to understand and also to provide to the process. In the industry exist process are essential.\n",
    "1. **Company:** \n",
    "2. **Monotheads:** This meaning Table \n",
    "3. **Understand the problem and condition:** \n",
    "4. **Use the data recopilation:** Voltage, Current, Potency,  \n",
    "5. **Define the answer:** Use the theory and the knowlodge practice to fundamentation the answer and make right choice.\n",
    "6. **Generate the detailed solution:** Documentation Solution, Standarization, Writing Enginering Planes,   \n",
    "\n",
    "1 --> 2 --> 3 --> 4 Sustentation \n",
    "also exist the investigation work\n",
    "\n",
    "## Structured of the investigation\n",
    "\n",
    "1. All the knowledge is right referenced\n",
    "2. Automatic Bibliography IEEE\n",
    "3. Understand the choice of the norms how tell what to do, then is fundamental make the norms. \n",
    "4. The paragraph also is need to apply reference\n",
    "5. Found answer to the question \n",
    "\n",
    "## The knowledge of the equipment\n",
    "\n",
    "1. Substation: General System Electricity or Country level to 10000 Volts to next send the energy to the table of use in the university.\n",
    "> Work in base to time and needed\n",
    "\n",
    "8000 Mw : Hidraulic Mantaro - Thermic energy (Burn of GAS) \n",
    "Generation 13.8 Kv\n",
    "Net of Electricity Transmission: 13.8Kv / 220Kv\n",
    "High Tension: 220Kv / 60Kv\n",
    "60Kv / 30Kv\n",
    "Distribution of energy: 30Kv / 10kv\n",
    "10Kv / 220v --> arrive to home\n",
    "\n",
    "\n"
   ]
  },
  {
   "cell_type": "markdown",
   "id": "e52e9c48",
   "metadata": {},
   "source": []
  },
  {
   "cell_type": "markdown",
   "id": "6816f8c7",
   "metadata": {},
   "source": [
    "# Onethread Diagram\n",
    "\n",
    "This is the show of the electric system in the company, one line, is a tree diagram. One line and ramifications.\n",
    "\n",
    "1. Example in the house have 1 table, and subdivide in Luminarie and Chargue conections\n",
    "\n",
    "2. Components of the electric diagrama, SWITCH, TABLE OF THE ELECTRIC, \n",
    "\n",
    "3. tHE LINES DISCONTINUED EXPLAIN THE PART OF THE DIAGRAM, DISTRIBUTION and the CONTROL SECTION \n",
    "\n",
    "4. Show also the circuit in vertical indication the chargue of the line.\n",
    "\n",
    "5. Use the Country Simbology of the for planes and diagrams. \n",
    "\n",
    "## Components of diagram\n",
    "    \n",
    "![alt text](Electric/Electric_Elements.png)\n",
    "\n",
    "1. The line discontinues define a table electric\n",
    "2. The orientation of the up and down part of the circuit define the up are the source of the energy and the down are the getting.\n",
    "3. The quantity of the cables in a line are determined for the oblicue lines in the onethead diagram.\n",
    "4. The aparamenta is the protection components like thermomagnetic reles to protection the circuit.\n",
    "5. Receptors are the machinary, passive elements drink the energy. \n",
    "\n",
    "\n",
    "\n",
    "\n",
    "\n"
   ]
  },
  {
   "cell_type": "markdown",
   "id": "3f263ade",
   "metadata": {},
   "source": [
    "\n",
    "# Types of Conductors\n",
    "\n",
    "## Cables for Low Voltage\n",
    "\n",
    "1. Sectorial: 3 parts protected and a free cable to ground.\n",
    "\n",
    "```\n",
    "En el contexto del problema de entender los conceptos fundamentales de electricity y las aplicaciones de quantum mechanics y the string theory en efeectos aprovechados por el hombre para sus actividades industriales, elabora un\n",
    "informe técnico exhaustivo sobre los avances más recientes en\n",
    "esta área.\n",
    "El informe debe incluir únicamente artículos publicados en\n",
    "revistas científicas de alto impacto pertenecientes a editoras\n",
    "reconocidas como Elsevier, IEEE y Springer-Nature.\n",
    "Además, identifica y analiza tres brechas significativas en el\n",
    "conocimiento actual que puedan convertirse en oportunidades\n",
    "concretas para proyectos de investigación.\n",
    "Asegúrate de presentar el contenido con rigor académico,\n",
    "incluyendo referencias bibliográficas actualizadas y bien\n",
    "estructuradas.\n",
    "```\n",
    "2.\n"
   ]
  }
 ],
 "metadata": {
  "language_info": {
   "name": "python"
  }
 },
 "nbformat": 4,
 "nbformat_minor": 5
}
